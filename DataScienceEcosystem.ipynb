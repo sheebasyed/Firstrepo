{
 "cells": [
  {
   "cell_type": "markdown",
   "id": "c1fb2aa2-f597-402c-9a1e-00df7a1ee535",
   "metadata": {},
   "source": [
    "# Data Science Tools and Ecosystem"
   ]
  },
  {
   "cell_type": "markdown",
   "id": "ecd7278f-2977-4605-b037-064b2e5428e2",
   "metadata": {},
   "source": [
    "In this notebook, Data Science Tools and Ecosystem are summarized."
   ]
  },
  {
   "cell_type": "markdown",
   "id": "43f547af-e5ec-4288-b8ea-1b4e221a2ca5",
   "metadata": {},
   "source": [
    "**Objectives :**"
   ]
  },
  {
   "cell_type": "markdown",
   "id": "5aa9ef38-b90f-41fd-b648-ef5c1e8097d6",
   "metadata": {},
   "source": [
    "* List popular languages for Data Science\n",
    "* List commonly used Libraries by Data Scientists\n",
    "* List Data Science Tools\n",
    "* Examples of Arithmetic expressions\n",
    "* To convert minutes to hours"
   ]
  },
  {
   "cell_type": "markdown",
   "id": "55f659e5-66b2-4e40-97b4-b63caa6b508c",
   "metadata": {},
   "source": [
    "Some of the popular languages that Data Scientists use are:\n"
   ]
  },
  {
   "cell_type": "markdown",
   "id": "92783a42-9459-47df-8038-8fc7b8c30d64",
   "metadata": {},
   "source": [
    "1. Python\n",
    "2. JAVA\n",
    "3. SQL\n",
    "4. R"
   ]
  },
  {
   "cell_type": "markdown",
   "id": "fd4fc9ae-663a-4b04-88d0-1d4de63b6701",
   "metadata": {},
   "source": [
    "Some of the commonly used libraries used by Data Scientists include:"
   ]
  },
  {
   "cell_type": "markdown",
   "id": "56399305-84ea-4a08-a1a0-df51848b97aa",
   "metadata": {},
   "source": [
    "1. NumPy\n",
    "2. Pandas\n",
    "3. TensorFlow\n",
    "4. Matplotlib"
   ]
  },
  {
   "cell_type": "markdown",
   "id": "004a1355-0d8e-4e72-8ae8-4dff625a2ce5",
   "metadata": {},
   "source": [
    "| Data Science Tools |\n",
    "--------------------\n",
    "| Jupyter Notebook |\n",
    "| R Studio |\n",
    "| Zeppelin Notebook |"
   ]
  },
  {
   "cell_type": "markdown",
   "id": "d25150c5-aae0-421c-8d3d-92b6a007f9e9",
   "metadata": {},
   "source": [
    "### Below are a few examples of evaluating arithmetic expressions in Python.\n"
   ]
  },
  {
   "cell_type": "code",
   "execution_count": 4,
   "id": "7d777250-a239-4b7c-8d11-41404fc35c48",
   "metadata": {
    "tags": []
   },
   "outputs": [
    {
     "data": {
      "text/plain": [
       "17"
      ]
     },
     "execution_count": 4,
     "metadata": {},
     "output_type": "execute_result"
    }
   ],
   "source": [
    "(3*4)+5\n",
    "\n",
    "#This a simple arithmetic expression to mutiply then add integers"
   ]
  },
  {
   "cell_type": "code",
   "execution_count": 3,
   "id": "482c5aa9-0f55-48dd-b655-3c00fbabed88",
   "metadata": {
    "tags": []
   },
   "outputs": [
    {
     "data": {
      "text/plain": [
       "3.3333333333333335"
      ]
     },
     "execution_count": 3,
     "metadata": {},
     "output_type": "execute_result"
    }
   ],
   "source": [
    "200/60\n",
    "\n",
    "#This will convert 200 minutes to hours by dividing by 60"
   ]
  },
  {
   "cell_type": "markdown",
   "id": "2c20fc14-28a1-4a1c-ac86-4859d03576a9",
   "metadata": {},
   "source": [
    "## Author \n",
    "Sheeba"
   ]
  },
  {
   "cell_type": "code",
   "execution_count": null,
   "id": "dc7b430f-23d6-4e69-8c54-20605f188e7c",
   "metadata": {},
   "outputs": [],
   "source": []
  }
 ],
 "metadata": {
  "kernelspec": {
   "display_name": "Python",
   "language": "python",
   "name": "conda-env-python-py"
  },
  "language_info": {
   "codemirror_mode": {
    "name": "ipython",
    "version": 3
   },
   "file_extension": ".py",
   "mimetype": "text/x-python",
   "name": "python",
   "nbconvert_exporter": "python",
   "pygments_lexer": "ipython3",
   "version": "3.7.12"
  }
 },
 "nbformat": 4,
 "nbformat_minor": 5
}
